{
  "nbformat": 4,
  "nbformat_minor": 0,
  "metadata": {
    "colab": {
      "provenance": [],
      "toc_visible": true,
      "collapsed_sections": [
        "0LzmVF6_t5C3",
        "W5Y9qgCNtUS8",
        "c_sjuGBju6Vz",
        "OTs1vFfqvRbS",
        "O5H6d0swwv_P",
        "cPE_Oxaq2cx6",
        "8I5mWGu43E40",
        "Mu_gM-lh4xIe"
      ],
      "authorship_tag": "ABX9TyOucrjNI7plahU1Kbqn2qJf",
      "include_colab_link": true
    },
    "kernelspec": {
      "name": "python3",
      "display_name": "Python 3"
    },
    "language_info": {
      "name": "python"
    }
  },
  "cells": [
    {
      "cell_type": "markdown",
      "metadata": {
        "id": "view-in-github",
        "colab_type": "text"
      },
      "source": [
        "<a href=\"https://colab.research.google.com/github/reguelpangrib29/prak-ml-2217051084-a/blob/main/UTS_ML_RESPONSI_A_2217051084_REGUEL_ANDREAS_AGUSTINUS_PANGARIBUAN.ipynb\" target=\"_parent\"><img src=\"https://colab.research.google.com/assets/colab-badge.svg\" alt=\"Open In Colab\"/></a>"
      ]
    },
    {
      "cell_type": "markdown",
      "source": [
        "# UTS"
      ],
      "metadata": {
        "id": "bXzMfvE7tOcq"
      }
    },
    {
      "cell_type": "markdown",
      "source": [
        "Algoritma method ML yang saya gunakan adalah **DB SCAN**"
      ],
      "metadata": {
        "id": "eNKB-_kQ3Tau"
      }
    },
    {
      "cell_type": "markdown",
      "source": [
        "## Package Install"
      ],
      "metadata": {
        "id": "0LzmVF6_t5C3"
      }
    },
    {
      "cell_type": "code",
      "source": [
        "!pip install kneed"
      ],
      "metadata": {
        "colab": {
          "base_uri": "https://localhost:8080/"
        },
        "id": "5qbOTfg8tw8W",
        "outputId": "fc211f93-797d-4ee3-c565-495cb175939f"
      },
      "execution_count": 41,
      "outputs": [
        {
          "output_type": "stream",
          "name": "stdout",
          "text": [
            "Requirement already satisfied: kneed in /usr/local/lib/python3.10/dist-packages (0.8.5)\n",
            "Requirement already satisfied: numpy>=1.14.2 in /usr/local/lib/python3.10/dist-packages (from kneed) (1.25.2)\n",
            "Requirement already satisfied: scipy>=1.0.0 in /usr/local/lib/python3.10/dist-packages (from kneed) (1.11.4)\n"
          ]
        }
      ]
    },
    {
      "cell_type": "markdown",
      "source": [
        "## Import The Library"
      ],
      "metadata": {
        "id": "W5Y9qgCNtUS8"
      }
    },
    {
      "cell_type": "code",
      "source": [
        "# Mengimport library numpy dan mengaliasnya sebagai np\n",
        "import numpy as np\n",
        "\n",
        "# Mengimport library pandas dan mengaliasnya sebagai pd\n",
        "import pandas as pd\n",
        "\n",
        "# Mengimport library plot result\n",
        "import matplotlib.pyplot as plt\n",
        "\n",
        "# Mengimport library boxplot\n",
        "import seaborn as sns\n",
        "\n",
        "# Mereduksi dataset yang kompleks\n",
        "from sklearn.decomposition import PCA\n",
        "\n",
        "# Creating a dataset using make blob\n",
        "from sklearn import datasets\n",
        "from sklearn.datasets import make_blobs\n",
        "\n",
        "# Menormalisasi atau rescale data\n",
        "from sklearn.preprocessing import StandardScaler\n",
        "\n",
        "# Mengimplementasi algoritma clustering sesuai dengan nilai parameter dan jumlah kepadatan cluster\n",
        "from sklearn.neighbors import NearestNeighbors\n",
        "from sklearn.cluster import DBSCAN\n",
        "from kneed import KneeLocator\n",
        "\n",
        "# Menentukan evaluasi score dalam metrics algoritma\n",
        "from sklearn.metrics import silhouette_score, calinski_harabasz_score, davies_bouldin_score"
      ],
      "metadata": {
        "id": "3nNViiWltTfh"
      },
      "execution_count": 42,
      "outputs": []
    },
    {
      "cell_type": "markdown",
      "source": [
        "## Load Data"
      ],
      "metadata": {
        "id": "c_sjuGBju6Vz"
      }
    },
    {
      "cell_type": "code",
      "execution_count": 37,
      "metadata": {
        "colab": {
          "base_uri": "https://localhost:8080/",
          "height": 576
        },
        "id": "PM0nJI1vsmM5",
        "outputId": "a848b1a4-9ffe-41b4-e4ad-da8c0d0d4236"
      },
      "outputs": [
        {
          "output_type": "stream",
          "name": "stderr",
          "text": [
            "<ipython-input-37-08f1a0f0d078>:1: DtypeWarning: Columns (0,1,2,3,4,5,6,7,8,9,10,11,14,15,16,17,18) have mixed types. Specify dtype option on import or set low_memory=False.\n",
            "  df = pd.read_csv(\"https://raw.githubusercontent.com/jhnwlkn/Machine-Leaning/main/customer_support_data.csv\")\n",
            "/usr/local/lib/python3.10/dist-packages/google/colab/_dataframe_summarizer.py:88: UserWarning: Parsing dates in %d/%m/%Y %H:%M format when dayfirst=False (the default) was specified. Pass `dayfirst=True` or specify a format to silence this warning.\n",
            "  cast_date_col = pd.to_datetime(column, errors=\"coerce\")\n"
          ]
        },
        {
          "output_type": "execute_result",
          "data": {
            "text/plain": [
              "                              Unique id channel_name         category  \\\n",
              "0  7e9ae164-6a8b-4521-a2d4-58f7c9fff13f      Outcall  Product Queries   \n",
              "1  b07ec1b0-f376-43b6-86df-ec03da3b2e16      Outcall  Product Queries   \n",
              "2  200814dd-27c7-4149-ba2b-bd3af3092880      Inbound    Order Related   \n",
              "3  eb0d3e53-c1ca-42d3-8486-e42c8d622135      Inbound          Returns   \n",
              "4  ba903143-1e54-406c-b969-46c52f92e5df      Inbound     Cancellation   \n",
              "\n",
              "                   Sub-category Customer Remarks  \\\n",
              "0                Life Insurance              NaN   \n",
              "1  Product Specific Information              NaN   \n",
              "2             Installation/demo              NaN   \n",
              "3        Reverse Pickup Enquiry              NaN   \n",
              "4                    Not Needed              NaN   \n",
              "\n",
              "                               Order_id order_date_time Issue_reported at  \\\n",
              "0  c27c9bb4-fa36-4140-9f1f-21009254ffdb             NaN    1/8/2023 11:13   \n",
              "1  d406b0c7-ce17-4654-b9de-f08d421254bd             NaN    1/8/2023 12:52   \n",
              "2  c273368d-b961-44cb-beaf-62d6fd6c00d5             NaN    1/8/2023 20:16   \n",
              "3  5aed0059-55a4-4ec6-bb54-97942092020a             NaN    1/8/2023 20:56   \n",
              "4  e8bed5a9-6933-4aff-9dc6-ccefd7dcde59             NaN    1/8/2023 10:30   \n",
              "\n",
              "  issue_responded Survey_response_Date Customer_City Product_category  \\\n",
              "0  1/8/2023 11:47             1-Aug-23           NaN              NaN   \n",
              "1  1/8/2023 12:54             1-Aug-23           NaN              NaN   \n",
              "2  1/8/2023 20:38             1-Aug-23           NaN              NaN   \n",
              "3  1/8/2023 21:16             1-Aug-23           NaN              NaN   \n",
              "4  1/8/2023 10:32             1-Aug-23           NaN              NaN   \n",
              "\n",
              "   Item_price  connected_handling_time           Agent_name      Supervisor  \\\n",
              "0         NaN                      NaN     Richard Buchanan     Mason Gupta   \n",
              "1         NaN                      NaN        Vicki Collins       Dylan Kim   \n",
              "2         NaN                      NaN         Duane Norman    Jackson Park   \n",
              "3         NaN                      NaN       Patrick Flores     Olivia Wang   \n",
              "4         NaN                      NaN  Christopher Sanchez  Austin Johnson   \n",
              "\n",
              "           Manager    Tenure Bucket Agent Shift  CSAT Score  \n",
              "0  Jennifer Nguyen  On Job Training     Morning         5.0  \n",
              "1      Michael Lee              >90     Morning         5.0  \n",
              "2      William Kim  On Job Training     Evening         5.0  \n",
              "3       John Smith              >90     Evening         5.0  \n",
              "4      Michael Lee             0-30     Morning         5.0  "
            ],
            "text/html": [
              "\n",
              "  <div id=\"df-f83d7e89-bfcf-4f9a-a4ab-c0b16bbb5bb6\" class=\"colab-df-container\">\n",
              "    <div>\n",
              "<style scoped>\n",
              "    .dataframe tbody tr th:only-of-type {\n",
              "        vertical-align: middle;\n",
              "    }\n",
              "\n",
              "    .dataframe tbody tr th {\n",
              "        vertical-align: top;\n",
              "    }\n",
              "\n",
              "    .dataframe thead th {\n",
              "        text-align: right;\n",
              "    }\n",
              "</style>\n",
              "<table border=\"1\" class=\"dataframe\">\n",
              "  <thead>\n",
              "    <tr style=\"text-align: right;\">\n",
              "      <th></th>\n",
              "      <th>Unique id</th>\n",
              "      <th>channel_name</th>\n",
              "      <th>category</th>\n",
              "      <th>Sub-category</th>\n",
              "      <th>Customer Remarks</th>\n",
              "      <th>Order_id</th>\n",
              "      <th>order_date_time</th>\n",
              "      <th>Issue_reported at</th>\n",
              "      <th>issue_responded</th>\n",
              "      <th>Survey_response_Date</th>\n",
              "      <th>Customer_City</th>\n",
              "      <th>Product_category</th>\n",
              "      <th>Item_price</th>\n",
              "      <th>connected_handling_time</th>\n",
              "      <th>Agent_name</th>\n",
              "      <th>Supervisor</th>\n",
              "      <th>Manager</th>\n",
              "      <th>Tenure Bucket</th>\n",
              "      <th>Agent Shift</th>\n",
              "      <th>CSAT Score</th>\n",
              "    </tr>\n",
              "  </thead>\n",
              "  <tbody>\n",
              "    <tr>\n",
              "      <th>0</th>\n",
              "      <td>7e9ae164-6a8b-4521-a2d4-58f7c9fff13f</td>\n",
              "      <td>Outcall</td>\n",
              "      <td>Product Queries</td>\n",
              "      <td>Life Insurance</td>\n",
              "      <td>NaN</td>\n",
              "      <td>c27c9bb4-fa36-4140-9f1f-21009254ffdb</td>\n",
              "      <td>NaN</td>\n",
              "      <td>1/8/2023 11:13</td>\n",
              "      <td>1/8/2023 11:47</td>\n",
              "      <td>1-Aug-23</td>\n",
              "      <td>NaN</td>\n",
              "      <td>NaN</td>\n",
              "      <td>NaN</td>\n",
              "      <td>NaN</td>\n",
              "      <td>Richard Buchanan</td>\n",
              "      <td>Mason Gupta</td>\n",
              "      <td>Jennifer Nguyen</td>\n",
              "      <td>On Job Training</td>\n",
              "      <td>Morning</td>\n",
              "      <td>5.0</td>\n",
              "    </tr>\n",
              "    <tr>\n",
              "      <th>1</th>\n",
              "      <td>b07ec1b0-f376-43b6-86df-ec03da3b2e16</td>\n",
              "      <td>Outcall</td>\n",
              "      <td>Product Queries</td>\n",
              "      <td>Product Specific Information</td>\n",
              "      <td>NaN</td>\n",
              "      <td>d406b0c7-ce17-4654-b9de-f08d421254bd</td>\n",
              "      <td>NaN</td>\n",
              "      <td>1/8/2023 12:52</td>\n",
              "      <td>1/8/2023 12:54</td>\n",
              "      <td>1-Aug-23</td>\n",
              "      <td>NaN</td>\n",
              "      <td>NaN</td>\n",
              "      <td>NaN</td>\n",
              "      <td>NaN</td>\n",
              "      <td>Vicki Collins</td>\n",
              "      <td>Dylan Kim</td>\n",
              "      <td>Michael Lee</td>\n",
              "      <td>&gt;90</td>\n",
              "      <td>Morning</td>\n",
              "      <td>5.0</td>\n",
              "    </tr>\n",
              "    <tr>\n",
              "      <th>2</th>\n",
              "      <td>200814dd-27c7-4149-ba2b-bd3af3092880</td>\n",
              "      <td>Inbound</td>\n",
              "      <td>Order Related</td>\n",
              "      <td>Installation/demo</td>\n",
              "      <td>NaN</td>\n",
              "      <td>c273368d-b961-44cb-beaf-62d6fd6c00d5</td>\n",
              "      <td>NaN</td>\n",
              "      <td>1/8/2023 20:16</td>\n",
              "      <td>1/8/2023 20:38</td>\n",
              "      <td>1-Aug-23</td>\n",
              "      <td>NaN</td>\n",
              "      <td>NaN</td>\n",
              "      <td>NaN</td>\n",
              "      <td>NaN</td>\n",
              "      <td>Duane Norman</td>\n",
              "      <td>Jackson Park</td>\n",
              "      <td>William Kim</td>\n",
              "      <td>On Job Training</td>\n",
              "      <td>Evening</td>\n",
              "      <td>5.0</td>\n",
              "    </tr>\n",
              "    <tr>\n",
              "      <th>3</th>\n",
              "      <td>eb0d3e53-c1ca-42d3-8486-e42c8d622135</td>\n",
              "      <td>Inbound</td>\n",
              "      <td>Returns</td>\n",
              "      <td>Reverse Pickup Enquiry</td>\n",
              "      <td>NaN</td>\n",
              "      <td>5aed0059-55a4-4ec6-bb54-97942092020a</td>\n",
              "      <td>NaN</td>\n",
              "      <td>1/8/2023 20:56</td>\n",
              "      <td>1/8/2023 21:16</td>\n",
              "      <td>1-Aug-23</td>\n",
              "      <td>NaN</td>\n",
              "      <td>NaN</td>\n",
              "      <td>NaN</td>\n",
              "      <td>NaN</td>\n",
              "      <td>Patrick Flores</td>\n",
              "      <td>Olivia Wang</td>\n",
              "      <td>John Smith</td>\n",
              "      <td>&gt;90</td>\n",
              "      <td>Evening</td>\n",
              "      <td>5.0</td>\n",
              "    </tr>\n",
              "    <tr>\n",
              "      <th>4</th>\n",
              "      <td>ba903143-1e54-406c-b969-46c52f92e5df</td>\n",
              "      <td>Inbound</td>\n",
              "      <td>Cancellation</td>\n",
              "      <td>Not Needed</td>\n",
              "      <td>NaN</td>\n",
              "      <td>e8bed5a9-6933-4aff-9dc6-ccefd7dcde59</td>\n",
              "      <td>NaN</td>\n",
              "      <td>1/8/2023 10:30</td>\n",
              "      <td>1/8/2023 10:32</td>\n",
              "      <td>1-Aug-23</td>\n",
              "      <td>NaN</td>\n",
              "      <td>NaN</td>\n",
              "      <td>NaN</td>\n",
              "      <td>NaN</td>\n",
              "      <td>Christopher Sanchez</td>\n",
              "      <td>Austin Johnson</td>\n",
              "      <td>Michael Lee</td>\n",
              "      <td>0-30</td>\n",
              "      <td>Morning</td>\n",
              "      <td>5.0</td>\n",
              "    </tr>\n",
              "  </tbody>\n",
              "</table>\n",
              "</div>\n",
              "    <div class=\"colab-df-buttons\">\n",
              "\n",
              "  <div class=\"colab-df-container\">\n",
              "    <button class=\"colab-df-convert\" onclick=\"convertToInteractive('df-f83d7e89-bfcf-4f9a-a4ab-c0b16bbb5bb6')\"\n",
              "            title=\"Convert this dataframe to an interactive table.\"\n",
              "            style=\"display:none;\">\n",
              "\n",
              "  <svg xmlns=\"http://www.w3.org/2000/svg\" height=\"24px\" viewBox=\"0 -960 960 960\">\n",
              "    <path d=\"M120-120v-720h720v720H120Zm60-500h600v-160H180v160Zm220 220h160v-160H400v160Zm0 220h160v-160H400v160ZM180-400h160v-160H180v160Zm440 0h160v-160H620v160ZM180-180h160v-160H180v160Zm440 0h160v-160H620v160Z\"/>\n",
              "  </svg>\n",
              "    </button>\n",
              "\n",
              "  <style>\n",
              "    .colab-df-container {\n",
              "      display:flex;\n",
              "      gap: 12px;\n",
              "    }\n",
              "\n",
              "    .colab-df-convert {\n",
              "      background-color: #E8F0FE;\n",
              "      border: none;\n",
              "      border-radius: 50%;\n",
              "      cursor: pointer;\n",
              "      display: none;\n",
              "      fill: #1967D2;\n",
              "      height: 32px;\n",
              "      padding: 0 0 0 0;\n",
              "      width: 32px;\n",
              "    }\n",
              "\n",
              "    .colab-df-convert:hover {\n",
              "      background-color: #E2EBFA;\n",
              "      box-shadow: 0px 1px 2px rgba(60, 64, 67, 0.3), 0px 1px 3px 1px rgba(60, 64, 67, 0.15);\n",
              "      fill: #174EA6;\n",
              "    }\n",
              "\n",
              "    .colab-df-buttons div {\n",
              "      margin-bottom: 4px;\n",
              "    }\n",
              "\n",
              "    [theme=dark] .colab-df-convert {\n",
              "      background-color: #3B4455;\n",
              "      fill: #D2E3FC;\n",
              "    }\n",
              "\n",
              "    [theme=dark] .colab-df-convert:hover {\n",
              "      background-color: #434B5C;\n",
              "      box-shadow: 0px 1px 3px 1px rgba(0, 0, 0, 0.15);\n",
              "      filter: drop-shadow(0px 1px 2px rgba(0, 0, 0, 0.3));\n",
              "      fill: #FFFFFF;\n",
              "    }\n",
              "  </style>\n",
              "\n",
              "    <script>\n",
              "      const buttonEl =\n",
              "        document.querySelector('#df-f83d7e89-bfcf-4f9a-a4ab-c0b16bbb5bb6 button.colab-df-convert');\n",
              "      buttonEl.style.display =\n",
              "        google.colab.kernel.accessAllowed ? 'block' : 'none';\n",
              "\n",
              "      async function convertToInteractive(key) {\n",
              "        const element = document.querySelector('#df-f83d7e89-bfcf-4f9a-a4ab-c0b16bbb5bb6');\n",
              "        const dataTable =\n",
              "          await google.colab.kernel.invokeFunction('convertToInteractive',\n",
              "                                                    [key], {});\n",
              "        if (!dataTable) return;\n",
              "\n",
              "        const docLinkHtml = 'Like what you see? Visit the ' +\n",
              "          '<a target=\"_blank\" href=https://colab.research.google.com/notebooks/data_table.ipynb>data table notebook</a>'\n",
              "          + ' to learn more about interactive tables.';\n",
              "        element.innerHTML = '';\n",
              "        dataTable['output_type'] = 'display_data';\n",
              "        await google.colab.output.renderOutput(dataTable, element);\n",
              "        const docLink = document.createElement('div');\n",
              "        docLink.innerHTML = docLinkHtml;\n",
              "        element.appendChild(docLink);\n",
              "      }\n",
              "    </script>\n",
              "  </div>\n",
              "\n",
              "\n",
              "<div id=\"df-ec252496-fb07-44ef-9af6-a8cfb16cff5a\">\n",
              "  <button class=\"colab-df-quickchart\" onclick=\"quickchart('df-ec252496-fb07-44ef-9af6-a8cfb16cff5a')\"\n",
              "            title=\"Suggest charts\"\n",
              "            style=\"display:none;\">\n",
              "\n",
              "<svg xmlns=\"http://www.w3.org/2000/svg\" height=\"24px\"viewBox=\"0 0 24 24\"\n",
              "     width=\"24px\">\n",
              "    <g>\n",
              "        <path d=\"M19 3H5c-1.1 0-2 .9-2 2v14c0 1.1.9 2 2 2h14c1.1 0 2-.9 2-2V5c0-1.1-.9-2-2-2zM9 17H7v-7h2v7zm4 0h-2V7h2v10zm4 0h-2v-4h2v4z\"/>\n",
              "    </g>\n",
              "</svg>\n",
              "  </button>\n",
              "\n",
              "<style>\n",
              "  .colab-df-quickchart {\n",
              "      --bg-color: #E8F0FE;\n",
              "      --fill-color: #1967D2;\n",
              "      --hover-bg-color: #E2EBFA;\n",
              "      --hover-fill-color: #174EA6;\n",
              "      --disabled-fill-color: #AAA;\n",
              "      --disabled-bg-color: #DDD;\n",
              "  }\n",
              "\n",
              "  [theme=dark] .colab-df-quickchart {\n",
              "      --bg-color: #3B4455;\n",
              "      --fill-color: #D2E3FC;\n",
              "      --hover-bg-color: #434B5C;\n",
              "      --hover-fill-color: #FFFFFF;\n",
              "      --disabled-bg-color: #3B4455;\n",
              "      --disabled-fill-color: #666;\n",
              "  }\n",
              "\n",
              "  .colab-df-quickchart {\n",
              "    background-color: var(--bg-color);\n",
              "    border: none;\n",
              "    border-radius: 50%;\n",
              "    cursor: pointer;\n",
              "    display: none;\n",
              "    fill: var(--fill-color);\n",
              "    height: 32px;\n",
              "    padding: 0;\n",
              "    width: 32px;\n",
              "  }\n",
              "\n",
              "  .colab-df-quickchart:hover {\n",
              "    background-color: var(--hover-bg-color);\n",
              "    box-shadow: 0 1px 2px rgba(60, 64, 67, 0.3), 0 1px 3px 1px rgba(60, 64, 67, 0.15);\n",
              "    fill: var(--button-hover-fill-color);\n",
              "  }\n",
              "\n",
              "  .colab-df-quickchart-complete:disabled,\n",
              "  .colab-df-quickchart-complete:disabled:hover {\n",
              "    background-color: var(--disabled-bg-color);\n",
              "    fill: var(--disabled-fill-color);\n",
              "    box-shadow: none;\n",
              "  }\n",
              "\n",
              "  .colab-df-spinner {\n",
              "    border: 2px solid var(--fill-color);\n",
              "    border-color: transparent;\n",
              "    border-bottom-color: var(--fill-color);\n",
              "    animation:\n",
              "      spin 1s steps(1) infinite;\n",
              "  }\n",
              "\n",
              "  @keyframes spin {\n",
              "    0% {\n",
              "      border-color: transparent;\n",
              "      border-bottom-color: var(--fill-color);\n",
              "      border-left-color: var(--fill-color);\n",
              "    }\n",
              "    20% {\n",
              "      border-color: transparent;\n",
              "      border-left-color: var(--fill-color);\n",
              "      border-top-color: var(--fill-color);\n",
              "    }\n",
              "    30% {\n",
              "      border-color: transparent;\n",
              "      border-left-color: var(--fill-color);\n",
              "      border-top-color: var(--fill-color);\n",
              "      border-right-color: var(--fill-color);\n",
              "    }\n",
              "    40% {\n",
              "      border-color: transparent;\n",
              "      border-right-color: var(--fill-color);\n",
              "      border-top-color: var(--fill-color);\n",
              "    }\n",
              "    60% {\n",
              "      border-color: transparent;\n",
              "      border-right-color: var(--fill-color);\n",
              "    }\n",
              "    80% {\n",
              "      border-color: transparent;\n",
              "      border-right-color: var(--fill-color);\n",
              "      border-bottom-color: var(--fill-color);\n",
              "    }\n",
              "    90% {\n",
              "      border-color: transparent;\n",
              "      border-bottom-color: var(--fill-color);\n",
              "    }\n",
              "  }\n",
              "</style>\n",
              "\n",
              "  <script>\n",
              "    async function quickchart(key) {\n",
              "      const quickchartButtonEl =\n",
              "        document.querySelector('#' + key + ' button');\n",
              "      quickchartButtonEl.disabled = true;  // To prevent multiple clicks.\n",
              "      quickchartButtonEl.classList.add('colab-df-spinner');\n",
              "      try {\n",
              "        const charts = await google.colab.kernel.invokeFunction(\n",
              "            'suggestCharts', [key], {});\n",
              "      } catch (error) {\n",
              "        console.error('Error during call to suggestCharts:', error);\n",
              "      }\n",
              "      quickchartButtonEl.classList.remove('colab-df-spinner');\n",
              "      quickchartButtonEl.classList.add('colab-df-quickchart-complete');\n",
              "    }\n",
              "    (() => {\n",
              "      let quickchartButtonEl =\n",
              "        document.querySelector('#df-ec252496-fb07-44ef-9af6-a8cfb16cff5a button');\n",
              "      quickchartButtonEl.style.display =\n",
              "        google.colab.kernel.accessAllowed ? 'block' : 'none';\n",
              "    })();\n",
              "  </script>\n",
              "</div>\n",
              "    </div>\n",
              "  </div>\n"
            ],
            "application/vnd.google.colaboratory.intrinsic+json": {
              "type": "dataframe",
              "variable_name": "df",
              "summary": "{\n  \"name\": \"df\",\n  \"rows\": 85907,\n  \"fields\": [\n    {\n      \"column\": \"Unique id\",\n      \"properties\": {\n        \"dtype\": \"category\",\n        \"num_unique_values\": 10527,\n        \"samples\": [\n          \"1f9d3207-0778-407d-addb-9bb91630a8b5\",\n          \"e0412613-1970-4f65-9875-9655aa32f409\",\n          \"77bac388-93e5-469b-abc9-6662fc1bdb9a\"\n        ],\n        \"semantic_type\": \"\",\n        \"description\": \"\"\n      }\n    },\n    {\n      \"column\": \"channel_name\",\n      \"properties\": {\n        \"dtype\": \"category\",\n        \"num_unique_values\": 3,\n        \"samples\": [\n          \"Outcall\",\n          \"Inbound\",\n          \"Email\"\n        ],\n        \"semantic_type\": \"\",\n        \"description\": \"\"\n      }\n    },\n    {\n      \"column\": \"category\",\n      \"properties\": {\n        \"dtype\": \"category\",\n        \"num_unique_values\": 12,\n        \"samples\": [\n          \"Others\",\n          \"Onboarding related\",\n          \"Product Queries\"\n        ],\n        \"semantic_type\": \"\",\n        \"description\": \"\"\n      }\n    },\n    {\n      \"column\": \"Sub-category\",\n      \"properties\": {\n        \"dtype\": \"category\",\n        \"num_unique_values\": 52,\n        \"samples\": [\n          \"Priority delivery\",\n          \"Other Account Related Issues\",\n          \"Others\"\n        ],\n        \"semantic_type\": \"\",\n        \"description\": \"\"\n      }\n    },\n    {\n      \"column\": \"Customer Remarks\",\n      \"properties\": {\n        \"dtype\": \"category\",\n        \"num_unique_values\": 2552,\n        \"samples\": [\n          \"My issue is not resolved from yesterday.this is not a good thing.if customer issue is not solved quickly then why we don't do shopping from other shopping app where our issue is solved quickly \",\n          \"Nice person \",\n          \"So it's good enough \"\n        ],\n        \"semantic_type\": \"\",\n        \"description\": \"\"\n      }\n    },\n    {\n      \"column\": \"Order_id\",\n      \"properties\": {\n        \"dtype\": \"category\",\n        \"num_unique_values\": 6030,\n        \"samples\": [\n          \"21ca7372-81c5-4827-b4a7-9b5f33f5908f\",\n          \"caa2e915-1c95-4949-9400-55a1f6f928ae\",\n          \"ccfa5f94-1cfd-4be0-9aa9-597b13d72ceb\"\n        ],\n        \"semantic_type\": \"\",\n        \"description\": \"\"\n      }\n    },\n    {\n      \"column\": \"order_date_time\",\n      \"properties\": {\n        \"dtype\": \"date\",\n        \"min\": \"2022-02-04 11:12:00\",\n        \"max\": \"2023-08-04 19:00:00\",\n        \"num_unique_values\": 1614,\n        \"samples\": [\n          \"31/07/2023 12:22\",\n          \"22/07/2023 17:03\",\n          \"21/07/2023 12:54\"\n        ],\n        \"semantic_type\": \"\",\n        \"description\": \"\"\n      }\n    },\n    {\n      \"column\": \"Issue_reported at\",\n      \"properties\": {\n        \"dtype\": \"category\",\n        \"num_unique_values\": 4812,\n        \"samples\": [\n          \"5/8/2023 14:18\",\n          \"4/8/2023 22:24\",\n          \"2/8/2023 17:14\"\n        ],\n        \"semantic_type\": \"\",\n        \"description\": \"\"\n      }\n    },\n    {\n      \"column\": \"issue_responded\",\n      \"properties\": {\n        \"dtype\": \"object\",\n        \"num_unique_values\": 4727,\n        \"samples\": [\n          \"4/8/2023 12:52\",\n          \"3/8/2023 7:23\",\n          \"1/8/2023 4:07\"\n        ],\n        \"semantic_type\": \"\",\n        \"description\": \"\"\n      }\n    },\n    {\n      \"column\": \"Survey_response_Date\",\n      \"properties\": {\n        \"dtype\": \"object\",\n        \"num_unique_values\": 6,\n        \"samples\": [\n          \"1-Aug-23\",\n          \"2-Aug-23\",\n          \"6-Aug-23\"\n        ],\n        \"semantic_type\": \"\",\n        \"description\": \"\"\n      }\n    },\n    {\n      \"column\": \"Customer_City\",\n      \"properties\": {\n        \"dtype\": \"category\",\n        \"num_unique_values\": 618,\n        \"samples\": [\n          \"BETTIAH\",\n          \"KEKRI\",\n          \"NAVI MUMBAI\"\n        ],\n        \"semantic_type\": \"\",\n        \"description\": \"\"\n      }\n    },\n    {\n      \"column\": \"Product_category\",\n      \"properties\": {\n        \"dtype\": \"category\",\n        \"num_unique_values\": 9,\n        \"samples\": [\n          \"GiftCard\",\n          \"Electronics\",\n          \"Home\"\n        ],\n        \"semantic_type\": \"\",\n        \"description\": \"\"\n      }\n    },\n    {\n      \"column\": \"Item_price\",\n      \"properties\": {\n        \"dtype\": \"number\",\n        \"std\": 13201.741722005907,\n        \"min\": 9.0,\n        \"max\": 134999.0,\n        \"num_unique_values\": 783,\n        \"samples\": [\n          666.0,\n          772.0,\n          989.0\n        ],\n        \"semantic_type\": \"\",\n        \"description\": \"\"\n      }\n    },\n    {\n      \"column\": \"connected_handling_time\",\n      \"properties\": {\n        \"dtype\": \"number\",\n        \"std\": 173.49060173072456,\n        \"min\": 0.0,\n        \"max\": 574.0,\n        \"num_unique_values\": 10,\n        \"samples\": [\n          415.0,\n          303.0,\n          205.0\n        ],\n        \"semantic_type\": \"\",\n        \"description\": \"\"\n      }\n    },\n    {\n      \"column\": \"Agent_name\",\n      \"properties\": {\n        \"dtype\": \"category\",\n        \"num_unique_values\": 1142,\n        \"samples\": [\n          \"Tina Garza\",\n          \"Latoya Blair\",\n          \"David Meza MD\"\n        ],\n        \"semantic_type\": \"\",\n        \"description\": \"\"\n      }\n    },\n    {\n      \"column\": \"Supervisor\",\n      \"properties\": {\n        \"dtype\": \"category\",\n        \"num_unique_values\": 39,\n        \"samples\": [\n          \"Charlotte Suzuki\",\n          \"Olivia Suzuki\",\n          \"Austin Johnson\"\n        ],\n        \"semantic_type\": \"\",\n        \"description\": \"\"\n      }\n    },\n    {\n      \"column\": \"Manager\",\n      \"properties\": {\n        \"dtype\": \"category\",\n        \"num_unique_values\": 6,\n        \"samples\": [\n          \"Jennifer Nguyen\",\n          \"Michael Lee\",\n          \"Emily Chen\"\n        ],\n        \"semantic_type\": \"\",\n        \"description\": \"\"\n      }\n    },\n    {\n      \"column\": \"Tenure Bucket\",\n      \"properties\": {\n        \"dtype\": \"category\",\n        \"num_unique_values\": 5,\n        \"samples\": [\n          \">90\",\n          \"61-90\",\n          \"0-30\"\n        ],\n        \"semantic_type\": \"\",\n        \"description\": \"\"\n      }\n    },\n    {\n      \"column\": \"Agent Shift\",\n      \"properties\": {\n        \"dtype\": \"category\",\n        \"num_unique_values\": 5,\n        \"samples\": [\n          \"Evening\",\n          \"Night\",\n          \"Split\"\n        ],\n        \"semantic_type\": \"\",\n        \"description\": \"\"\n      }\n    },\n    {\n      \"column\": \"CSAT Score\",\n      \"properties\": {\n        \"dtype\": \"number\",\n        \"std\": 1.4167072629630841,\n        \"min\": 1.0,\n        \"max\": 5.0,\n        \"num_unique_values\": 5,\n        \"samples\": [\n          4.0,\n          2.0,\n          1.0\n        ],\n        \"semantic_type\": \"\",\n        \"description\": \"\"\n      }\n    }\n  ]\n}"
            }
          },
          "metadata": {},
          "execution_count": 37
        }
      ],
      "source": [
        "df = pd.read_csv(\"https://raw.githubusercontent.com/jhnwlkn/Machine-Leaning/main/customer_support_data.csv\")\n",
        "df.head()"
      ]
    },
    {
      "cell_type": "code",
      "source": [
        "# Load data in X\n",
        "X, y_true = make_blobs(n_samples=300, centers=4, cluster_std=0.50, random_state=0)"
      ],
      "metadata": {
        "id": "572PaSOWw2Q1"
      },
      "execution_count": 43,
      "outputs": []
    },
    {
      "cell_type": "markdown",
      "source": [
        "## Exploratory Data Analisis (EDA)"
      ],
      "metadata": {
        "id": "OTs1vFfqvRbS"
      }
    },
    {
      "cell_type": "markdown",
      "source": [
        "Cek analisis data menggunakan statistika dan visualisasi"
      ],
      "metadata": {
        "id": "4X_GepBPvVKE"
      }
    },
    {
      "cell_type": "code",
      "source": [
        "# informasi dataframe (jumlah data, jumlah kolom, jumlah baris, tipe data, dll)\n",
        "df.info()"
      ],
      "metadata": {
        "colab": {
          "base_uri": "https://localhost:8080/"
        },
        "id": "_DvjidMWvY6J",
        "outputId": "cc077316-2fd8-4814-b7c5-11964fde47a0"
      },
      "execution_count": 44,
      "outputs": [
        {
          "output_type": "stream",
          "name": "stdout",
          "text": [
            "<class 'pandas.core.frame.DataFrame'>\n",
            "RangeIndex: 85907 entries, 0 to 85906\n",
            "Data columns (total 20 columns):\n",
            " #   Column                   Non-Null Count  Dtype  \n",
            "---  ------                   --------------  -----  \n",
            " 0   Unique id                10527 non-null  object \n",
            " 1   channel_name             10527 non-null  object \n",
            " 2   category                 10527 non-null  object \n",
            " 3   Sub-category             10527 non-null  object \n",
            " 4   Customer Remarks         3423 non-null   object \n",
            " 5   Order_id                 6030 non-null   object \n",
            " 6   order_date_time          1698 non-null   object \n",
            " 7   Issue_reported at        10527 non-null  object \n",
            " 8   issue_responded          10527 non-null  object \n",
            " 9   Survey_response_Date     10527 non-null  object \n",
            " 10  Customer_City            1684 non-null   object \n",
            " 11  Product_category         1696 non-null   object \n",
            " 12  Item_price               1698 non-null   float64\n",
            " 13  connected_handling_time  10 non-null     float64\n",
            " 14  Agent_name               10527 non-null  object \n",
            " 15  Supervisor               10527 non-null  object \n",
            " 16  Manager                  10527 non-null  object \n",
            " 17  Tenure Bucket            10527 non-null  object \n",
            " 18  Agent Shift              10527 non-null  object \n",
            " 19  CSAT Score               10527 non-null  float64\n",
            "dtypes: float64(3), object(17)\n",
            "memory usage: 13.1+ MB\n"
          ]
        }
      ]
    },
    {
      "cell_type": "code",
      "source": [
        "# jumlah NaN / missing values setiap column\n",
        "df.isna().sum()"
      ],
      "metadata": {
        "colab": {
          "base_uri": "https://localhost:8080/"
        },
        "id": "KP3ccTCdvlff",
        "outputId": "f60d83cd-7253-4638-a5c5-4ba9f5a48d89"
      },
      "execution_count": 45,
      "outputs": [
        {
          "output_type": "execute_result",
          "data": {
            "text/plain": [
              "Unique id                  75380\n",
              "channel_name               75380\n",
              "category                   75380\n",
              "Sub-category               75380\n",
              "Customer Remarks           82484\n",
              "Order_id                   79877\n",
              "order_date_time            84209\n",
              "Issue_reported at          75380\n",
              "issue_responded            75380\n",
              "Survey_response_Date       75380\n",
              "Customer_City              84223\n",
              "Product_category           84211\n",
              "Item_price                 84209\n",
              "connected_handling_time    85897\n",
              "Agent_name                 75380\n",
              "Supervisor                 75380\n",
              "Manager                    75380\n",
              "Tenure Bucket              75380\n",
              "Agent Shift                75380\n",
              "CSAT Score                 75380\n",
              "dtype: int64"
            ]
          },
          "metadata": {},
          "execution_count": 45
        }
      ]
    },
    {
      "cell_type": "code",
      "source": [
        "# informasi statistik dataframe\n",
        "df.describe().transpose()"
      ],
      "metadata": {
        "colab": {
          "base_uri": "https://localhost:8080/",
          "height": 143
        },
        "id": "KF_dHsHTwBMV",
        "outputId": "cb9a23a6-a72e-4e8b-be4c-7e5477731647"
      },
      "execution_count": 46,
      "outputs": [
        {
          "output_type": "execute_result",
          "data": {
            "text/plain": [
              "                           count         mean           std  min     25%  \\\n",
              "Item_price                1698.0  6516.472909  13201.741722  9.0  426.50   \n",
              "connected_handling_time     10.0   298.100000    173.490602  0.0  205.25   \n",
              "CSAT Score               10527.0     4.207372      1.416707  1.0    4.00   \n",
              "\n",
              "                           50%      75%       max  \n",
              "Item_price               999.0  4419.00  134999.0  \n",
              "connected_handling_time  271.5   403.25     574.0  \n",
              "CSAT Score                 5.0     5.00       5.0  "
            ],
            "text/html": [
              "\n",
              "  <div id=\"df-f888b777-5c90-4fca-b722-97cd008df0bc\" class=\"colab-df-container\">\n",
              "    <div>\n",
              "<style scoped>\n",
              "    .dataframe tbody tr th:only-of-type {\n",
              "        vertical-align: middle;\n",
              "    }\n",
              "\n",
              "    .dataframe tbody tr th {\n",
              "        vertical-align: top;\n",
              "    }\n",
              "\n",
              "    .dataframe thead th {\n",
              "        text-align: right;\n",
              "    }\n",
              "</style>\n",
              "<table border=\"1\" class=\"dataframe\">\n",
              "  <thead>\n",
              "    <tr style=\"text-align: right;\">\n",
              "      <th></th>\n",
              "      <th>count</th>\n",
              "      <th>mean</th>\n",
              "      <th>std</th>\n",
              "      <th>min</th>\n",
              "      <th>25%</th>\n",
              "      <th>50%</th>\n",
              "      <th>75%</th>\n",
              "      <th>max</th>\n",
              "    </tr>\n",
              "  </thead>\n",
              "  <tbody>\n",
              "    <tr>\n",
              "      <th>Item_price</th>\n",
              "      <td>1698.0</td>\n",
              "      <td>6516.472909</td>\n",
              "      <td>13201.741722</td>\n",
              "      <td>9.0</td>\n",
              "      <td>426.50</td>\n",
              "      <td>999.0</td>\n",
              "      <td>4419.00</td>\n",
              "      <td>134999.0</td>\n",
              "    </tr>\n",
              "    <tr>\n",
              "      <th>connected_handling_time</th>\n",
              "      <td>10.0</td>\n",
              "      <td>298.100000</td>\n",
              "      <td>173.490602</td>\n",
              "      <td>0.0</td>\n",
              "      <td>205.25</td>\n",
              "      <td>271.5</td>\n",
              "      <td>403.25</td>\n",
              "      <td>574.0</td>\n",
              "    </tr>\n",
              "    <tr>\n",
              "      <th>CSAT Score</th>\n",
              "      <td>10527.0</td>\n",
              "      <td>4.207372</td>\n",
              "      <td>1.416707</td>\n",
              "      <td>1.0</td>\n",
              "      <td>4.00</td>\n",
              "      <td>5.0</td>\n",
              "      <td>5.00</td>\n",
              "      <td>5.0</td>\n",
              "    </tr>\n",
              "  </tbody>\n",
              "</table>\n",
              "</div>\n",
              "    <div class=\"colab-df-buttons\">\n",
              "\n",
              "  <div class=\"colab-df-container\">\n",
              "    <button class=\"colab-df-convert\" onclick=\"convertToInteractive('df-f888b777-5c90-4fca-b722-97cd008df0bc')\"\n",
              "            title=\"Convert this dataframe to an interactive table.\"\n",
              "            style=\"display:none;\">\n",
              "\n",
              "  <svg xmlns=\"http://www.w3.org/2000/svg\" height=\"24px\" viewBox=\"0 -960 960 960\">\n",
              "    <path d=\"M120-120v-720h720v720H120Zm60-500h600v-160H180v160Zm220 220h160v-160H400v160Zm0 220h160v-160H400v160ZM180-400h160v-160H180v160Zm440 0h160v-160H620v160ZM180-180h160v-160H180v160Zm440 0h160v-160H620v160Z\"/>\n",
              "  </svg>\n",
              "    </button>\n",
              "\n",
              "  <style>\n",
              "    .colab-df-container {\n",
              "      display:flex;\n",
              "      gap: 12px;\n",
              "    }\n",
              "\n",
              "    .colab-df-convert {\n",
              "      background-color: #E8F0FE;\n",
              "      border: none;\n",
              "      border-radius: 50%;\n",
              "      cursor: pointer;\n",
              "      display: none;\n",
              "      fill: #1967D2;\n",
              "      height: 32px;\n",
              "      padding: 0 0 0 0;\n",
              "      width: 32px;\n",
              "    }\n",
              "\n",
              "    .colab-df-convert:hover {\n",
              "      background-color: #E2EBFA;\n",
              "      box-shadow: 0px 1px 2px rgba(60, 64, 67, 0.3), 0px 1px 3px 1px rgba(60, 64, 67, 0.15);\n",
              "      fill: #174EA6;\n",
              "    }\n",
              "\n",
              "    .colab-df-buttons div {\n",
              "      margin-bottom: 4px;\n",
              "    }\n",
              "\n",
              "    [theme=dark] .colab-df-convert {\n",
              "      background-color: #3B4455;\n",
              "      fill: #D2E3FC;\n",
              "    }\n",
              "\n",
              "    [theme=dark] .colab-df-convert:hover {\n",
              "      background-color: #434B5C;\n",
              "      box-shadow: 0px 1px 3px 1px rgba(0, 0, 0, 0.15);\n",
              "      filter: drop-shadow(0px 1px 2px rgba(0, 0, 0, 0.3));\n",
              "      fill: #FFFFFF;\n",
              "    }\n",
              "  </style>\n",
              "\n",
              "    <script>\n",
              "      const buttonEl =\n",
              "        document.querySelector('#df-f888b777-5c90-4fca-b722-97cd008df0bc button.colab-df-convert');\n",
              "      buttonEl.style.display =\n",
              "        google.colab.kernel.accessAllowed ? 'block' : 'none';\n",
              "\n",
              "      async function convertToInteractive(key) {\n",
              "        const element = document.querySelector('#df-f888b777-5c90-4fca-b722-97cd008df0bc');\n",
              "        const dataTable =\n",
              "          await google.colab.kernel.invokeFunction('convertToInteractive',\n",
              "                                                    [key], {});\n",
              "        if (!dataTable) return;\n",
              "\n",
              "        const docLinkHtml = 'Like what you see? Visit the ' +\n",
              "          '<a target=\"_blank\" href=https://colab.research.google.com/notebooks/data_table.ipynb>data table notebook</a>'\n",
              "          + ' to learn more about interactive tables.';\n",
              "        element.innerHTML = '';\n",
              "        dataTable['output_type'] = 'display_data';\n",
              "        await google.colab.output.renderOutput(dataTable, element);\n",
              "        const docLink = document.createElement('div');\n",
              "        docLink.innerHTML = docLinkHtml;\n",
              "        element.appendChild(docLink);\n",
              "      }\n",
              "    </script>\n",
              "  </div>\n",
              "\n",
              "\n",
              "<div id=\"df-ab9b2bf4-7f1c-4ebc-a6fa-8a9cc60c11f3\">\n",
              "  <button class=\"colab-df-quickchart\" onclick=\"quickchart('df-ab9b2bf4-7f1c-4ebc-a6fa-8a9cc60c11f3')\"\n",
              "            title=\"Suggest charts\"\n",
              "            style=\"display:none;\">\n",
              "\n",
              "<svg xmlns=\"http://www.w3.org/2000/svg\" height=\"24px\"viewBox=\"0 0 24 24\"\n",
              "     width=\"24px\">\n",
              "    <g>\n",
              "        <path d=\"M19 3H5c-1.1 0-2 .9-2 2v14c0 1.1.9 2 2 2h14c1.1 0 2-.9 2-2V5c0-1.1-.9-2-2-2zM9 17H7v-7h2v7zm4 0h-2V7h2v10zm4 0h-2v-4h2v4z\"/>\n",
              "    </g>\n",
              "</svg>\n",
              "  </button>\n",
              "\n",
              "<style>\n",
              "  .colab-df-quickchart {\n",
              "      --bg-color: #E8F0FE;\n",
              "      --fill-color: #1967D2;\n",
              "      --hover-bg-color: #E2EBFA;\n",
              "      --hover-fill-color: #174EA6;\n",
              "      --disabled-fill-color: #AAA;\n",
              "      --disabled-bg-color: #DDD;\n",
              "  }\n",
              "\n",
              "  [theme=dark] .colab-df-quickchart {\n",
              "      --bg-color: #3B4455;\n",
              "      --fill-color: #D2E3FC;\n",
              "      --hover-bg-color: #434B5C;\n",
              "      --hover-fill-color: #FFFFFF;\n",
              "      --disabled-bg-color: #3B4455;\n",
              "      --disabled-fill-color: #666;\n",
              "  }\n",
              "\n",
              "  .colab-df-quickchart {\n",
              "    background-color: var(--bg-color);\n",
              "    border: none;\n",
              "    border-radius: 50%;\n",
              "    cursor: pointer;\n",
              "    display: none;\n",
              "    fill: var(--fill-color);\n",
              "    height: 32px;\n",
              "    padding: 0;\n",
              "    width: 32px;\n",
              "  }\n",
              "\n",
              "  .colab-df-quickchart:hover {\n",
              "    background-color: var(--hover-bg-color);\n",
              "    box-shadow: 0 1px 2px rgba(60, 64, 67, 0.3), 0 1px 3px 1px rgba(60, 64, 67, 0.15);\n",
              "    fill: var(--button-hover-fill-color);\n",
              "  }\n",
              "\n",
              "  .colab-df-quickchart-complete:disabled,\n",
              "  .colab-df-quickchart-complete:disabled:hover {\n",
              "    background-color: var(--disabled-bg-color);\n",
              "    fill: var(--disabled-fill-color);\n",
              "    box-shadow: none;\n",
              "  }\n",
              "\n",
              "  .colab-df-spinner {\n",
              "    border: 2px solid var(--fill-color);\n",
              "    border-color: transparent;\n",
              "    border-bottom-color: var(--fill-color);\n",
              "    animation:\n",
              "      spin 1s steps(1) infinite;\n",
              "  }\n",
              "\n",
              "  @keyframes spin {\n",
              "    0% {\n",
              "      border-color: transparent;\n",
              "      border-bottom-color: var(--fill-color);\n",
              "      border-left-color: var(--fill-color);\n",
              "    }\n",
              "    20% {\n",
              "      border-color: transparent;\n",
              "      border-left-color: var(--fill-color);\n",
              "      border-top-color: var(--fill-color);\n",
              "    }\n",
              "    30% {\n",
              "      border-color: transparent;\n",
              "      border-left-color: var(--fill-color);\n",
              "      border-top-color: var(--fill-color);\n",
              "      border-right-color: var(--fill-color);\n",
              "    }\n",
              "    40% {\n",
              "      border-color: transparent;\n",
              "      border-right-color: var(--fill-color);\n",
              "      border-top-color: var(--fill-color);\n",
              "    }\n",
              "    60% {\n",
              "      border-color: transparent;\n",
              "      border-right-color: var(--fill-color);\n",
              "    }\n",
              "    80% {\n",
              "      border-color: transparent;\n",
              "      border-right-color: var(--fill-color);\n",
              "      border-bottom-color: var(--fill-color);\n",
              "    }\n",
              "    90% {\n",
              "      border-color: transparent;\n",
              "      border-bottom-color: var(--fill-color);\n",
              "    }\n",
              "  }\n",
              "</style>\n",
              "\n",
              "  <script>\n",
              "    async function quickchart(key) {\n",
              "      const quickchartButtonEl =\n",
              "        document.querySelector('#' + key + ' button');\n",
              "      quickchartButtonEl.disabled = true;  // To prevent multiple clicks.\n",
              "      quickchartButtonEl.classList.add('colab-df-spinner');\n",
              "      try {\n",
              "        const charts = await google.colab.kernel.invokeFunction(\n",
              "            'suggestCharts', [key], {});\n",
              "      } catch (error) {\n",
              "        console.error('Error during call to suggestCharts:', error);\n",
              "      }\n",
              "      quickchartButtonEl.classList.remove('colab-df-spinner');\n",
              "      quickchartButtonEl.classList.add('colab-df-quickchart-complete');\n",
              "    }\n",
              "    (() => {\n",
              "      let quickchartButtonEl =\n",
              "        document.querySelector('#df-ab9b2bf4-7f1c-4ebc-a6fa-8a9cc60c11f3 button');\n",
              "      quickchartButtonEl.style.display =\n",
              "        google.colab.kernel.accessAllowed ? 'block' : 'none';\n",
              "    })();\n",
              "  </script>\n",
              "</div>\n",
              "    </div>\n",
              "  </div>\n"
            ],
            "application/vnd.google.colaboratory.intrinsic+json": {
              "type": "dataframe",
              "summary": "{\n  \"name\": \"df\",\n  \"rows\": 3,\n  \"fields\": [\n    {\n      \"column\": \"count\",\n      \"properties\": {\n        \"dtype\": \"number\",\n        \"std\": 5648.124674025294,\n        \"min\": 10.0,\n        \"max\": 10527.0,\n        \"num_unique_values\": 3,\n        \"samples\": [\n          1698.0,\n          10.0,\n          10527.0\n        ],\n        \"semantic_type\": \"\",\n        \"description\": \"\"\n      }\n    },\n    {\n      \"column\": \"mean\",\n      \"properties\": {\n        \"dtype\": \"number\",\n        \"std\": 3677.9554318231712,\n        \"min\": 4.207371520851145,\n        \"max\": 6516.472909305065,\n        \"num_unique_values\": 3,\n        \"samples\": [\n          6516.472909305065,\n          298.1,\n          4.207371520851145\n        ],\n        \"semantic_type\": \"\",\n        \"description\": \"\"\n      }\n    },\n    {\n      \"column\": \"std\",\n      \"properties\": {\n        \"dtype\": \"number\",\n        \"std\": 7572.02655802876,\n        \"min\": 1.4167072629630841,\n        \"max\": 13201.741722005907,\n        \"num_unique_values\": 3,\n        \"samples\": [\n          13201.741722005907,\n          173.49060173072456,\n          1.4167072629630841\n        ],\n        \"semantic_type\": \"\",\n        \"description\": \"\"\n      }\n    },\n    {\n      \"column\": \"min\",\n      \"properties\": {\n        \"dtype\": \"number\",\n        \"std\": 4.932882862316247,\n        \"min\": 0.0,\n        \"max\": 9.0,\n        \"num_unique_values\": 3,\n        \"samples\": [\n          9.0,\n          0.0,\n          1.0\n        ],\n        \"semantic_type\": \"\",\n        \"description\": \"\"\n      }\n    },\n    {\n      \"column\": \"25%\",\n      \"properties\": {\n        \"dtype\": \"number\",\n        \"std\": 211.32888073647987,\n        \"min\": 4.0,\n        \"max\": 426.5,\n        \"num_unique_values\": 3,\n        \"samples\": [\n          426.5,\n          205.25,\n          4.0\n        ],\n        \"semantic_type\": \"\",\n        \"description\": \"\"\n      }\n    },\n    {\n      \"column\": \"50%\",\n      \"properties\": {\n        \"dtype\": \"number\",\n        \"std\": 514.5085843145217,\n        \"min\": 5.0,\n        \"max\": 999.0,\n        \"num_unique_values\": 3,\n        \"samples\": [\n          999.0,\n          271.5,\n          5.0\n        ],\n        \"semantic_type\": \"\",\n        \"description\": \"\"\n      }\n    },\n    {\n      \"column\": \"75%\",\n      \"properties\": {\n        \"dtype\": \"number\",\n        \"std\": 2441.592619753208,\n        \"min\": 5.0,\n        \"max\": 4419.0,\n        \"num_unique_values\": 3,\n        \"samples\": [\n          4419.0,\n          403.25,\n          5.0\n        ],\n        \"semantic_type\": \"\",\n        \"description\": \"\"\n      }\n    },\n    {\n      \"column\": \"max\",\n      \"properties\": {\n        \"dtype\": \"number\",\n        \"std\": 77775.08643732473,\n        \"min\": 5.0,\n        \"max\": 134999.0,\n        \"num_unique_values\": 3,\n        \"samples\": [\n          134999.0,\n          574.0,\n          5.0\n        ],\n        \"semantic_type\": \"\",\n        \"description\": \"\"\n      }\n    }\n  ]\n}"
            }
          },
          "metadata": {},
          "execution_count": 46
        }
      ]
    },
    {
      "cell_type": "code",
      "source": [
        "# cek column names\n",
        "df.columns"
      ],
      "metadata": {
        "colab": {
          "base_uri": "https://localhost:8080/"
        },
        "id": "fkypo2tyxDKd",
        "outputId": "b2fe63aa-9243-4e57-82d7-a53c4f0c7aae"
      },
      "execution_count": 47,
      "outputs": [
        {
          "output_type": "execute_result",
          "data": {
            "text/plain": [
              "Index(['Unique id', 'channel_name', 'category', 'Sub-category',\n",
              "       'Customer Remarks', 'Order_id', 'order_date_time', 'Issue_reported at',\n",
              "       'issue_responded', 'Survey_response_Date', 'Customer_City',\n",
              "       'Product_category', 'Item_price', 'connected_handling_time',\n",
              "       'Agent_name', 'Supervisor', 'Manager', 'Tenure Bucket', 'Agent Shift',\n",
              "       'CSAT Score'],\n",
              "      dtype='object')"
            ]
          },
          "metadata": {},
          "execution_count": 47
        }
      ]
    },
    {
      "cell_type": "code",
      "source": [
        "# cek min samples dengan perintah array\n",
        "min_samples = np.arange(2, 20, step=3)\n",
        "min_samples"
      ],
      "metadata": {
        "colab": {
          "base_uri": "https://localhost:8080/"
        },
        "id": "MDmxgIY0pC_m",
        "outputId": "f94c3810-52df-408b-8c4d-50123aeb1e97"
      },
      "execution_count": 48,
      "outputs": [
        {
          "output_type": "execute_result",
          "data": {
            "text/plain": [
              "array([ 2,  5,  8, 11, 14, 17])"
            ]
          },
          "metadata": {},
          "execution_count": 48
        }
      ]
    },
    {
      "cell_type": "code",
      "source": [
        "# cek epsilons, dimana data terdistribusi antara 0.03 dan 1, dengan num = 15\n",
        "epsilons = np.linspace(0.03, 1, num=15)\n",
        "epsilons"
      ],
      "metadata": {
        "colab": {
          "base_uri": "https://localhost:8080/"
        },
        "id": "qC6guLwi0iXd",
        "outputId": "3c9f0e69-2a25-4dc4-c419-b4b0fd7aab8b"
      },
      "execution_count": 49,
      "outputs": [
        {
          "output_type": "execute_result",
          "data": {
            "text/plain": [
              "array([0.03      , 0.09928571, 0.16857143, 0.23785714, 0.30714286,\n",
              "       0.37642857, 0.44571429, 0.515     , 0.58428571, 0.65357143,\n",
              "       0.72285714, 0.79214286, 0.86142857, 0.93071429, 1.        ])"
            ]
          },
          "metadata": {},
          "execution_count": 49
        }
      ]
    },
    {
      "cell_type": "code",
      "source": [
        "# cek ketersediaan data\n",
        "print(\"\\nJumlah Data Hilang dalam Kolom 'connected_handling_time':\", df['connected_handling_time'].isnull().sum())"
      ],
      "metadata": {
        "colab": {
          "base_uri": "https://localhost:8080/"
        },
        "id": "p09y8p10yDQ7",
        "outputId": "1cf7ab1a-7555-433a-fa0a-b04be33a3ad9"
      },
      "execution_count": 50,
      "outputs": [
        {
          "output_type": "stream",
          "name": "stdout",
          "text": [
            "\n",
            "Jumlah Data Hilang dalam Kolom 'connected_handling_time': 85897\n"
          ]
        }
      ]
    },
    {
      "cell_type": "code",
      "source": [
        "# cek outlier data\n",
        "sns.boxplot(df['connected_handling_time'])"
      ],
      "metadata": {
        "colab": {
          "base_uri": "https://localhost:8080/",
          "height": 433
        },
        "id": "kl_JhRKJwSUD",
        "outputId": "3e55aae9-c455-4fc1-f0ef-18e2fb8aa7bd"
      },
      "execution_count": 51,
      "outputs": [
        {
          "output_type": "execute_result",
          "data": {
            "text/plain": [
              "<Axes: ylabel='connected_handling_time'>"
            ]
          },
          "metadata": {},
          "execution_count": 51
        },
        {
          "output_type": "display_data",
          "data": {
            "text/plain": [
              "<Figure size 640x480 with 1 Axes>"
            ],
            "image/png": "[encoded data removed]"
          },
          "metadata": {}
        }
      ]
    },
    {
      "cell_type": "code",
      "source": [
        "# explore distribusi nilai\n",
        "# memeriksa lalu menyeleksi nilai jika ada pengubahan tipe data menjadi kolom numerik\n",
        "print(\"Distribusi nilai dalam kolom 'Item_price':\")\n",
        "print(df['Item_price'].value_counts())\n",
        "print()\n",
        "\n",
        "print(\"Distribusi nilai dalam kolom 'connected_handling_time':\")\n",
        "print(df['connected_handling_time'].value_counts())\n",
        "print()\n",
        "\n",
        "df['Item_price'] = pd.to_numeric(df['Item_price'], errors='coerce')\n",
        "\n",
        "print(\"Nilai unik dalam kolom 'Item_price' setelah konversi:\")\n",
        "print(df['Item_price'].unique())\n",
        "print()\n",
        "\n",
        "print(\"Nilai unik dalam kolom 'connected_handling_time':\")\n",
        "print(df['connected_handling_time'].unique())\n",
        "print()\n",
        "\n",
        "print(\"Nilai unik dalam kolom 'CSAT Score':\")\n",
        "print(df['CSAT Score'].unique())"
      ],
      "metadata": {
        "colab": {
          "base_uri": "https://localhost:8080/"
        },
        "id": "5sCiWY4L1yUo",
        "outputId": "b1ba1de2-cf0d-4580-c1b3-a6cdfb2bf776"
      },
      "execution_count": 52,
      "outputs": [
        {
          "output_type": "stream",
          "name": "stdout",
          "text": [
            "Distribusi nilai dalam kolom 'Item_price':\n",
            "Item_price\n",
            "999.0      53\n",
            "32999.0    46\n",
            "1499.0     36\n",
            "299.0      30\n",
            "499.0      29\n",
            "           ..\n",
            "12628.0     1\n",
            "540.0       1\n",
            "6699.0      1\n",
            "1071.0      1\n",
            "1087.0      1\n",
            "Name: count, Length: 783, dtype: int64\n",
            "\n",
            "Distribusi nilai dalam kolom 'connected_handling_time':\n",
            "connected_handling_time\n",
            "206.0    1\n",
            "303.0    1\n",
            "156.0    1\n",
            "0.0      1\n",
            "240.0    1\n",
            "205.0    1\n",
            "574.0    1\n",
            "514.0    1\n",
            "415.0    1\n",
            "368.0    1\n",
            "Name: count, dtype: int64\n",
            "\n",
            "Nilai unik dalam kolom 'Item_price' setelah konversi:\n",
            "[        nan 4.34000e+02 1.29900e+03 1.59900e+04 1.09900e+03 9.99990e+04\n",
            " 3.19900e+03 6.64000e+02 1.11590e+04 6.99000e+02 7.99000e+02 2.49990e+04\n",
            " 1.54900e+04 1.66000e+02 1.09990e+04 2.12900e+03 1.99000e+02 2.95000e+02\n",
            " 7.99900e+03 1.49900e+03 1.79900e+03 9.99000e+02 2.19990e+04 4.47000e+02\n",
            " 1.63900e+04 2.59900e+04 1.49990e+04 4.17000e+02 1.19990e+04 2.03000e+02\n",
            " 1.45300e+03 4.99000e+02 1.70000e+01 1.69900e+03 1.89900e+04 2.75000e+02\n",
            " 6.49900e+03 2.49900e+03 1.37600e+03 2.39900e+03 9.28000e+02 1.40900e+03\n",
            " 2.05000e+02 5.55000e+02 1.99990e+04 1.75000e+02 2.39990e+04 6.85000e+02\n",
            " 3.84000e+02 1.04990e+04 1.65000e+02 2.99000e+02 3.49000e+02 2.86000e+02\n",
            " 7.55000e+02 1.08490e+05 9.99900e+03 6.40000e+01 3.32000e+02 7.49900e+03\n",
            " 4.79990e+04 3.29990e+04 3.14900e+04 3.03400e+03 4.40000e+02 1.80800e+03\n",
            " 1.09400e+03 1.84900e+03 3.24000e+02 1.70000e+02 2.20000e+02 1.51100e+03\n",
            " 1.56000e+02 7.00000e+01 3.58000e+03 1.89990e+04 2.99990e+04 1.84000e+02\n",
            " 4.99900e+03 8.99000e+02 1.64000e+02 6.79000e+02 3.59000e+02 1.57500e+03\n",
            " 2.18400e+03 1.33900e+03 1.29990e+04 1.89900e+03 4.47200e+04 7.29900e+03\n",
            " 2.84900e+04 1.24000e+03 1.42900e+03 4.45000e+02 2.79900e+03 3.19990e+04\n",
            " 7.02000e+02 9.69000e+02 5.59900e+04 4.48000e+02 1.30900e+03 7.96000e+02\n",
            " 1.19900e+03 2.99900e+03 2.48400e+03 3.11740e+04 1.89000e+02 3.29900e+03\n",
            " 5.99000e+02 1.13400e+03 2.09000e+02 4.74900e+04 1.30090e+04 9.34000e+02\n",
            " 1.59990e+04 1.72000e+02 9.00000e+00 4.38000e+02 3.88000e+02 1.39900e+04\n",
            " 8.49900e+03 1.10000e+02 1.94350e+04 1.26400e+04 3.99000e+02 4.20000e+02\n",
            " 3.79000e+02 2.06100e+04 6.98500e+03 3.39000e+02 5.79000e+02 1.59900e+03\n",
            " 2.35000e+02 1.79000e+02 9.10000e+01 2.69990e+04 1.10000e+03 1.39900e+03\n",
            " 1.49900e+04 1.78000e+02 5.24000e+02 3.95000e+02 2.80900e+04 2.89900e+03\n",
            " 2.62000e+02 4.49990e+04 8.54000e+02 1.89000e+04 7.49000e+02 2.49000e+02\n",
            " 7.90000e+02 2.44900e+03 2.59990e+04 4.79000e+02 4.26000e+02 4.09900e+04\n",
            " 9.49000e+02 3.19000e+02 3.12000e+02 7.01500e+03 1.99900e+03 2.03900e+03\n",
            " 1.39990e+04 1.03000e+02 1.25900e+03 1.34900e+03 2.09990e+04 3.09700e+03\n",
            " 1.76900e+03 1.15490e+04 1.04990e+05 8.39000e+02 2.63000e+02 2.29990e+04\n",
            " 2.27000e+02 1.79900e+04 2.27400e+03 8.27000e+02 4.04000e+02 3.68000e+02\n",
            " 2.67000e+02 6.74000e+02 4.39000e+02 7.62900e+03 1.04900e+03 9.10000e+02\n",
            " 4.76000e+02 2.11000e+02 3.29900e+04 1.51900e+03 1.34500e+03 8.74900e+03\n",
            " 7.59000e+03 2.90000e+02 2.64600e+03 6.25000e+02 1.69990e+04 1.10010e+04\n",
            " 2.85000e+02 3.49900e+03 4.74000e+02 3.89900e+03 3.49800e+03 2.49830e+04\n",
            " 3.69000e+02 2.24000e+02 7.61800e+03 5.86000e+02 3.62000e+02 9.89000e+02\n",
            " 2.04900e+03 2.11900e+03 4.49900e+03 3.80000e+02 2.09100e+03 4.19000e+02\n",
            " 6.07000e+02 2.80000e+02 4.19900e+03 3.18000e+02 1.83900e+03 2.94400e+03\n",
            " 4.19990e+04 5.99900e+03 2.39000e+02 2.54060e+04 2.48000e+02 7.80000e+03\n",
            " 9.20000e+02 3.70000e+01 1.94900e+03 1.63800e+03 6.54000e+02 2.12000e+02\n",
            " 6.63000e+02 2.14400e+03 3.79900e+03 1.26300e+03 1.01400e+03 8.08000e+02\n",
            " 4.75000e+02 3.99900e+03 1.96000e+02 2.34900e+04 7.39000e+02 2.00000e+03\n",
            " 1.31100e+03 1.57000e+02 4.30000e+01 3.45000e+03 2.89000e+02 4.20000e+01\n",
            " 9.90000e+01 3.29000e+02 1.01900e+03 4.09000e+02 4.93000e+02 9.95000e+02\n",
            " 1.90200e+03 3.89000e+02 2.98000e+02 3.47000e+02 1.80000e+03 4.69000e+02\n",
            " 3.64000e+03 3.15000e+02 1.44990e+04 7.29000e+02 6.51000e+02 1.79300e+03\n",
            " 2.13000e+02 4.49000e+02 1.32500e+03 7.82000e+02 1.52900e+03 3.97000e+02\n",
            " 7.19000e+02 1.15000e+02 2.60400e+03 4.94990e+04 5.97000e+02 3.00000e+03\n",
            " 1.37200e+03 2.15000e+02 9.50000e+01 4.28000e+02 2.94000e+02 3.74000e+02\n",
            " 4.88000e+02 3.99800e+03 2.29400e+03 1.44000e+02 4.59900e+03 2.87000e+02\n",
            " 8.00000e+02 5.32000e+02 6.89990e+04 6.14000e+02 5.62000e+02 2.79000e+02\n",
            " 6.49000e+02 2.89990e+04 5.99990e+04 1.60000e+02 2.14900e+03 2.29000e+03\n",
            " 9.49900e+03 9.79000e+02 4.59000e+02 1.51200e+03 4.46900e+03 1.01800e+03\n",
            " 5.49900e+03 1.43500e+04 7.79000e+02 4.94000e+02 1.03800e+04 1.25000e+02\n",
            " 6.50000e+01 6.95000e+02 3.32000e+03 2.59900e+03 1.90000e+01 3.66000e+02\n",
            " 5.45000e+02 6.39000e+02 6.60000e+02 9.72000e+02 1.23300e+03 1.43600e+03\n",
            " 3.63000e+02 1.61000e+02 1.61000e+03 1.04900e+04 2.84900e+03 6.75000e+02\n",
            " 2.79600e+03 5.44990e+04 8.31000e+02 3.90000e+02 3.75000e+02 1.48900e+03\n",
            " 2.71900e+03 2.79990e+04 7.68000e+02 4.40000e+01 8.57800e+03 5.51000e+02\n",
            " 7.58000e+02 8.99000e+03 4.08000e+02 1.07100e+03 6.69900e+03 5.40000e+02\n",
            " 1.26280e+04 6.29000e+02 6.89900e+03 2.99900e+04 1.32900e+03 2.78000e+02\n",
            " 4.27400e+03 9.69000e+03 3.47400e+03 1.40000e+02 2.19900e+03 1.13900e+03\n",
            " 2.64900e+03 6.89900e+04 5.29000e+02 2.33000e+02 1.06400e+03 5.23000e+02\n",
            " 5.65000e+02 5.09000e+02 2.00000e+02 4.33000e+02 4.85000e+02 2.27460e+04\n",
            " 2.69000e+02 3.31000e+02 6.41000e+02 2.55400e+03 4.73000e+02 3.96000e+02\n",
            " 6.05000e+02 8.58000e+02 3.57000e+02 1.51000e+03 1.48400e+03 7.29000e+03\n",
            " 7.35000e+02 1.29900e+04 6.83000e+02 3.77000e+02 3.69900e+04 7.75000e+02\n",
            " 1.34990e+04 3.40100e+03 5.97900e+03 4.42000e+02 3.51000e+02 1.19000e+02\n",
            " 2.13500e+03 3.35000e+03 2.40000e+01 1.11100e+03 1.12990e+04 5.80000e+02\n",
            " 9.09000e+02 8.95000e+02 2.45990e+04 6.99900e+03 1.25300e+03 2.65000e+02\n",
            " 5.00000e+02 2.18000e+02 1.99500e+03 1.37100e+03 6.61000e+02 1.43900e+03\n",
            " 1.76640e+04 1.38900e+03 3.94900e+04 8.29000e+02 9.94000e+02 1.39410e+04\n",
            " 4.34900e+04 1.27250e+04 3.49000e+03 4.99900e+04 1.39200e+03 7.67000e+02\n",
            " 3.25000e+02 9.91000e+02 1.27400e+03 1.01900e+04 1.89700e+03 1.04700e+03\n",
            " 3.55000e+02 1.14990e+04 2.30000e+01 3.19900e+04 4.75000e+04 1.15500e+03\n",
            " 8.99900e+03 1.88990e+04 1.39000e+02 1.49000e+03 4.60000e+01 9.20000e+01\n",
            " 8.49000e+02 1.10300e+03 1.23600e+03 2.21000e+03 1.34900e+04 1.49800e+03\n",
            " 8.69900e+04 1.64900e+03 4.99990e+04 1.00000e+02 1.49950e+04 1.45000e+02\n",
            " 6.29900e+03 1.24900e+03 4.65400e+03 3.79990e+04 8.85600e+03 7.60000e+02\n",
            " 4.71700e+03 1.80000e+02 5.81000e+02 3.01900e+03 2.30000e+02 1.01000e+02\n",
            " 1.04000e+02 7.80000e+01 1.09900e+04 4.70000e+02 2.32000e+02 8.06000e+02\n",
            " 1.46990e+04 1.08990e+04 5.89000e+02 2.83200e+03 3.40000e+02 2.41800e+03\n",
            " 9.26000e+02 5.40000e+01 1.82900e+03 8.15000e+02 3.90000e+01 2.04000e+02\n",
            " 8.79000e+02 1.08000e+02 5.50000e+02 1.58900e+03 1.07500e+03 9.25000e+02\n",
            " 2.19000e+02 2.59000e+02 8.90000e+01 4.18000e+02 1.50000e+02 2.17000e+02\n",
            " 7.67900e+03 7.36000e+02 2.64400e+03 1.73000e+02 1.67990e+04 3.41000e+02\n",
            " 3.34000e+02 8.33000e+02 4.22000e+02 1.30000e+02 2.70000e+01 1.92000e+03\n",
            " 2.33900e+03 2.02200e+03 2.10000e+04 5.76000e+02 2.43000e+03 3.49900e+04\n",
            " 3.53000e+03 8.69000e+02 5.96000e+02 2.22000e+02 2.56000e+02 1.69000e+03\n",
            " 3.87000e+02 6.19990e+04 4.84000e+02 4.70000e+01 8.10000e+02 6.35000e+02\n",
            " 4.52500e+03 3.68000e+03 1.86000e+02 7.20000e+02 1.85000e+02 6.38000e+02\n",
            " 2.06900e+03 2.60000e+02 9.80000e+01 6.16000e+02 1.19900e+04 4.05000e+02\n",
            " 2.55000e+02 5.58000e+02 1.45990e+04 3.00000e+02 4.95000e+02 1.75850e+04\n",
            " 6.36000e+02 1.69000e+02 2.08450e+04 7.23000e+02 3.35000e+02 7.92000e+02\n",
            " 6.24000e+02 1.41000e+02 9.77100e+03 3.89900e+04 8.13000e+02 1.32000e+03\n",
            " 1.37300e+04 3.79900e+04 1.92600e+03 3.14600e+03 5.30000e+02 5.61900e+03\n",
            " 7.99990e+04 4.54100e+03 1.47400e+03 7.78000e+02 1.78900e+03 2.34000e+02\n",
            " 4.30000e+02 8.09000e+02 1.15900e+03 2.51900e+03 6.65900e+03 2.09900e+03\n",
            " 5.49000e+02 2.19890e+04 5.10000e+01 3.46000e+02 1.10900e+03 4.43990e+04\n",
            " 3.20000e+02 5.94000e+02 7.72000e+02 5.19900e+03 4.80000e+02 3.45950e+04\n",
            " 4.09900e+03 3.28600e+03 2.36000e+02 3.44900e+04 6.66000e+02 1.54990e+04\n",
            " 6.99990e+04 5.92000e+02 2.61000e+02 1.79800e+03 3.50000e+02 3.09000e+02\n",
            " 4.45900e+03 4.00000e+02 5.91000e+02 2.19500e+04 2.88000e+02 2.11200e+03\n",
            " 7.89000e+02 1.18600e+03 3.09990e+04 3.89990e+04 2.89900e+04 3.10000e+02\n",
            " 3.07700e+03 1.38990e+04 2.14000e+02 6.92000e+02 2.02300e+04 8.24000e+02\n",
            " 2.64000e+02 2.19500e+03 5.94900e+04 6.49900e+04 1.23000e+03 8.79900e+03\n",
            " 3.42000e+02 6.02900e+03 1.89790e+04 3.61000e+03 1.43100e+03 3.39200e+04\n",
            " 7.46000e+02 4.89000e+02 1.64990e+04 4.24000e+02 8.50000e+01 8.19000e+02\n",
            " 3.09900e+04 5.26000e+02 7.69900e+03 2.19800e+03 3.04000e+02 2.29900e+03\n",
            " 2.73000e+02 3.48000e+02 1.42400e+03 5.53000e+02 5.15000e+02 3.75600e+03\n",
            " 6.88000e+02 3.16000e+02 7.59000e+02 5.86600e+03 3.56000e+02 1.34999e+05\n",
            " 2.68000e+02 5.63900e+03 2.52000e+02 1.26000e+03 3.63190e+04 1.08000e+03\n",
            " 1.62300e+03 1.89600e+03 2.07900e+03 2.29000e+02 6.97000e+02 8.98000e+02\n",
            " 1.48000e+03 3.82000e+02 7.69000e+02 2.77900e+03 2.97000e+02 2.03690e+04\n",
            " 9.07900e+03 5.44000e+02 4.29900e+04 1.95000e+02 5.59000e+02 1.15410e+04\n",
            " 4.29000e+02 6.15000e+02 2.20000e+01 2.44990e+04 1.22000e+02 2.19900e+04\n",
            " 6.48000e+02 5.01000e+02 1.20000e+03 1.14900e+03 2.25000e+02 1.66800e+03\n",
            " 4.89900e+04 4.25000e+02 6.78000e+02 1.57900e+04 7.30000e+01 2.24500e+03\n",
            " 2.39800e+03 7.98000e+02 1.55400e+03 7.08500e+03 8.10000e+01 3.28980e+04\n",
            " 9.23900e+03 4.29900e+03 8.40000e+01 1.32630e+04 1.93000e+02 3.55000e+03\n",
            " 1.64900e+04 1.53900e+03 3.09900e+03 1.97400e+03 1.52400e+04 2.38000e+02\n",
            " 1.12400e+03 9.40000e+02 2.09200e+03 3.81000e+02 4.13990e+04 1.74900e+03\n",
            " 8.69000e+03 3.55410e+04 1.44900e+04 1.61500e+04 6.19000e+02 6.29800e+03\n",
            " 5.25000e+02 1.09100e+03 4.96900e+03 4.74900e+03 2.23000e+02 1.11400e+03\n",
            " 1.69100e+03 6.80000e+02 3.30000e+02 4.98000e+02 3.64900e+04 1.09000e+02\n",
            " 3.98000e+02 1.05510e+04 4.95200e+03 1.79990e+04 1.05300e+03 4.39980e+04\n",
            " 1.18760e+04 8.65000e+02 1.24900e+04 1.09990e+05 2.28000e+02 3.97900e+03\n",
            " 2.66000e+02 1.24990e+04 9.00000e+01 3.60000e+02 6.89000e+02 1.16070e+04\n",
            " 2.74600e+03 9.99900e+04 5.24100e+03 3.44000e+02 8.39900e+03 4.67000e+02\n",
            " 1.17000e+03 1.99800e+03 4.07000e+02 1.29000e+02 2.11800e+03 1.91000e+02\n",
            " 9.98000e+02 5.99900e+04 1.49000e+02 1.04500e+03 6.70000e+01 3.70000e+03\n",
            " 1.98000e+02 2.06000e+02 9.58000e+02 1.08700e+03]\n",
            "\n",
            "Nilai unik dalam kolom 'connected_handling_time':\n",
            "[ nan 206. 303. 156.   0. 240. 205. 574. 514. 415. 368.]\n",
            "\n",
            "Nilai unik dalam kolom 'CSAT Score':\n",
            "[ 5.  4.  1.  3.  2. nan]\n"
          ]
        }
      ]
    },
    {
      "cell_type": "markdown",
      "source": [
        "## Preprocessing"
      ],
      "metadata": {
        "id": "O5H6d0swwv_P"
      }
    },
    {
      "cell_type": "code",
      "source": [
        "# hapus data outlier\n",
        "df.loc[df[\"connected_handling_time\"]<0, \"connected_handling_time\"] = np.nan\n",
        "df.loc[df[\"connected_handling_time\"]>100, \"connected_handling_time\"] = np.nan"
      ],
      "metadata": {
        "id": "5MZG7G1xw0Uj"
      },
      "execution_count": 53,
      "outputs": []
    },
    {
      "cell_type": "code",
      "source": [
        "# # assign missing values dengan mean untuk setiap column yang ada missing nya\n",
        "df[\"connected_handling_time\"].fillna(value=df[\"connected_handling_time\"].mean(), inplace=True)\n",
        "df[\"Item_price\"].fillna(value=df[\"Item_price\"].mean(), inplace=True)\n",
        "df[\"CSAT Score\"].fillna(value=df[\"CSAT Score\"].mean(), inplace=True)"
      ],
      "metadata": {
        "id": "mMO39qQ6zKPs"
      },
      "execution_count": 54,
      "outputs": []
    },
    {
      "cell_type": "code",
      "source": [
        "# mengabaikan indeks-indeks yang tidak ada dalam dataframe dan melanjutkan dengan menghapus indeks-indeks yang ada\n",
        "df.drop(index=range(10527, 85906+1), inplace=True, errors='ignore')"
      ],
      "metadata": {
        "id": "-tGjp-hc0QTJ"
      },
      "execution_count": 55,
      "outputs": []
    },
    {
      "cell_type": "code",
      "source": [
        "# hapus non-numeric columns\n",
        "df_numeric = df.select_dtypes(include=['number'])"
      ],
      "metadata": {
        "id": "hNlF2xZXzuBr"
      },
      "execution_count": 56,
      "outputs": []
    },
    {
      "cell_type": "code",
      "source": [
        "# handle missing values if needed\n",
        "df_numeric.dropna(inplace=True)"
      ],
      "metadata": {
        "id": "hRYNdJME12Qm"
      },
      "execution_count": 57,
      "outputs": []
    },
    {
      "cell_type": "code",
      "source": [
        "# rescale data-nya\n",
        "data_scaler = StandardScaler()\n",
        "scaled_data = data_scaler.fit_transform(df_numeric)"
      ],
      "metadata": {
        "id": "wHFvJzRL0nR4"
      },
      "execution_count": 58,
      "outputs": []
    },
    {
      "cell_type": "markdown",
      "source": [
        "## Modeling"
      ],
      "metadata": {
        "id": "cPE_Oxaq2cx6"
      }
    },
    {
      "cell_type": "markdown",
      "source": [
        "Modeling / Training data menggunakan algoritma hierarchical clustering"
      ],
      "metadata": {
        "id": "wm-kiu2P2e2M"
      }
    },
    {
      "cell_type": "code",
      "source": [
        "# mencari rentang nilai disetiap tetangga\n",
        "nbrs = NearestNeighbors().fit(scaled_data)\n",
        "neigh_dist, neigh_ind = nbrs.kneighbors(scaled_data)\n",
        "sort_neigh_dist = np.sort(neigh_dist, axis = 0)"
      ],
      "metadata": {
        "id": "gh2EO9VW2ktB"
      },
      "execution_count": 59,
      "outputs": []
    },
    {
      "cell_type": "code",
      "source": [
        "# plot datanya\n",
        "k_dist = sort_neigh_dist[:, 4]\n",
        "kneedle = KneeLocator(x = range(1, len(neigh_dist)+1), y = k_dist, S = 1.0,\n",
        "                      curve = \"concave\", direction = \"increasing\", online=True)"
      ],
      "metadata": {
        "id": "bnECuCDO2nXk"
      },
      "execution_count": 60,
      "outputs": []
    },
    {
      "cell_type": "code",
      "source": [
        "# mencari nilai epsilon yang didapat dari knee poin\n",
        "print(kneedle.knee_y)\n",
        "kneedle.plot_knee()\n",
        "plt.show()"
      ],
      "metadata": {
        "colab": {
          "base_uri": "https://localhost:8080/",
          "height": 563
        },
        "id": "OA5NCgHW21zU",
        "outputId": "2f226a47-c665-4ef7-dd34-379469a02cbe"
      },
      "execution_count": 61,
      "outputs": [
        {
          "output_type": "stream",
          "name": "stdout",
          "text": [
            "3.246343315500315\n"
          ]
        },
        {
          "output_type": "display_data",
          "data": {
            "text/plain": [
              "<Figure size 600x600 with 1 Axes>"
            ],
            "image/png": "[encoded data removed]"
          },
          "metadata": {}
        }
      ]
    },
    {
      "cell_type": "code",
      "source": [
        "clusters = DBSCAN(eps = 2, min_samples = 4).fit(scaled_data)\n",
        "label = clusters.labels_\n",
        "np.unique(label)"
      ],
      "metadata": {
        "colab": {
          "base_uri": "https://localhost:8080/"
        },
        "id": "Z84MrtII267v",
        "outputId": "1196f029-8233-4718-e027-0702c7864100"
      },
      "execution_count": 62,
      "outputs": [
        {
          "output_type": "execute_result",
          "data": {
            "text/plain": [
              "array([-1,  0,  1])"
            ]
          },
          "metadata": {},
          "execution_count": 62
        }
      ]
    },
    {
      "cell_type": "code",
      "source": [
        "# mengelompokkan data clustering yang berbasis pada kerapatan data\n",
        "# menggunakan atribut core_sample_indices_, yang berisi indeks dari titik-titik data yang dianggap sebagai pusat klaster.\n",
        "db = DBSCAN(eps=0.5, min_samples=10).fit(X)\n",
        "core_samples_mask = np.zeros_like(db.labels_, dtype=bool)\n",
        "core_samples_mask[db.core_sample_indices_] = True\n",
        "labels = db.labels_"
      ],
      "metadata": {
        "id": "FgKXBE85HHQ8"
      },
      "execution_count": 63,
      "outputs": []
    },
    {
      "cell_type": "markdown",
      "source": [
        "## Visualization"
      ],
      "metadata": {
        "id": "8I5mWGu43E40"
      }
    },
    {
      "cell_type": "code",
      "source": [
        "# menjumlahkan cluster dalam label, mengabaikan noise jika ada\n",
        "n_clusters_ = len(set(labels)) - (1 if -1 in labels else 0)\n",
        "\n",
        "# warna hitam dihilangkan dan digunakan untuk noise\n",
        "unique_labels = set(labels)\n",
        "colors = ['y', 'b', 'g', 'r']\n",
        "for k, col in zip(unique_labels, colors):\n",
        "    if k == -1:\n",
        "        # digunakan untuk noise\n",
        "        col = 'k'\n",
        "\n",
        "    class_member_mask = (labels == k)\n",
        "\n",
        "    xy = X[class_member_mask & core_samples_mask]\n",
        "    plt.plot(xy[:, 0], xy[:, 1], 'o', markerfacecolor=col,\n",
        "             markeredgecolor='k',\n",
        "             markersize=6)\n",
        "\n",
        "    xy = X[class_member_mask & ~core_samples_mask]\n",
        "    plt.plot(xy[:, 0], xy[:, 1], 'o', markerfacecolor=col,\n",
        "             markeredgecolor='k',\n",
        "             markersize=6)\n",
        "\n",
        "# plot results\n",
        "plt.title('number of clusters: %d' % n_clusters_)\n",
        "plt.show()"
      ],
      "metadata": {
        "colab": {
          "base_uri": "https://localhost:8080/",
          "height": 452
        },
        "id": "QVU8O4vU0K2V",
        "outputId": "acb7ab38-4979-4378-b612-d3814b967cfb"
      },
      "execution_count": 64,
      "outputs": [
        {
          "output_type": "display_data",
          "data": {
            "text/plain": [
              "<Figure size 640x480 with 1 Axes>"
            ],
            "image/png": "[encoded data removed]"
          },
          "metadata": {}
        }
      ]
    },
    {
      "cell_type": "code",
      "source": [
        "df[\"predicted_cluster\"] = label\n",
        "# df_clean = df.drop(['Unique id', 'Agent_name'], axis=1)\n",
        "reduced_data = PCA(n_components=2).fit_transform(df_numeric)\n",
        "df_reduced_data = pd.DataFrame(reduced_data, columns=[\"pca1\", \"pca2\"])\n",
        "sns.scatterplot(x = \"pca1\", y = \"pca2\", hue = df[\"predicted_cluster\"], data = df_reduced_data)\n",
        "plt.title(\"cluster by DBSCAN\")\n",
        "plt.show()"
      ],
      "metadata": {
        "colab": {
          "base_uri": "https://localhost:8080/",
          "height": 472
        },
        "id": "5fbidyK83ihO",
        "outputId": "ca0c537f-612f-4aae-87cd-0291e9c6acd3"
      },
      "execution_count": 65,
      "outputs": [
        {
          "output_type": "display_data",
          "data": {
            "text/plain": [
              "<Figure size 640x480 with 1 Axes>"
            ],
            "image/png": "[encoded data removed]"
          },
          "metadata": {}
        }
      ]
    },
    {
      "cell_type": "markdown",
      "source": [
        "## Evaluation"
      ],
      "metadata": {
        "id": "Mu_gM-lh4xIe"
      }
    },
    {
      "cell_type": "code",
      "source": [
        "ss = silhouette_score(df_numeric, label)\n",
        "print(f\"Akurasi berdasarkan Silhouette score adalah: {ss}\")"
      ],
      "metadata": {
        "colab": {
          "base_uri": "https://localhost:8080/"
        },
        "id": "3tpXnODW4y9x",
        "outputId": "b45aebe6-50a5-4f0b-e84b-d464bd9ec8b8"
      },
      "execution_count": 66,
      "outputs": [
        {
          "output_type": "stream",
          "name": "stdout",
          "text": [
            "Akurasi berdasarkan Silhouette score adalah: 0.9728223153386443\n"
          ]
        }
      ]
    },
    {
      "cell_type": "code",
      "source": [
        "# Interpretasi hasil klasterisasi\n",
        "if ss > 0.5:\n",
        "  print(\"Silhouette Score menunjukkan pemisahan klaster yang sangat baik.\")\n",
        "elif 0.25 <= ss <= 0.5:\n",
        "  print(\"Silhouette Score menunjukkan pemisahan klaster yang cukup baik.\")\n",
        "elif 0.1 <= ss < 0.25:\n",
        "  print(\"Silhouette Score menunjukkan pemisahan klaster yang masih bisa diterima.\")\n",
        "else:\n",
        "  print(\"Silhouette Score menunjukkan pemisahan klaster yang buruk. Perlu evaluasi lebih lanjut.\")"
      ],
      "metadata": {
        "colab": {
          "base_uri": "https://localhost:8080/"
        },
        "id": "DEaxOwPf5MFg",
        "outputId": "3d206f4b-15eb-45f0-d911-640a0bda0263"
      },
      "execution_count": 67,
      "outputs": [
        {
          "output_type": "stream",
          "name": "stdout",
          "text": [
            "Silhouette Score menunjukkan pemisahan klaster yang sangat baik.\n"
          ]
        }
      ]
    },
    {
      "cell_type": "markdown",
      "source": [
        "**Penjelasan kenapa saya menggunakan metode evaluasi \"silhouette score\" pada metode algoritma DB Scan ini :**\n",
        "\n",
        "1. Mengukur Kompakitas dan Pemisahan: \"Silhouette score\" mengukur seberapa dekat setiap titik dalam suatu cluster dengan titik-titik lain dalam cluster yang sama, serta seberapa jauh titik-titik dalam suatu cluster tersebut dari cluster lain. Ini adalah ukuran yang baik untuk mengevaluasi baiknya pembentukan cluster dalam DB Scan, karena DB Scan berusaha untuk membentuk cluster yang padat (kompak) dan memisahkan antara cluster dengan baik.\n",
        "\n",
        "2. Rentang Nilai Antara -1 dan 1: \"Silhouette score\" memberikan skor dalam rentang antara -1 dan 1. Skor yang lebih tinggi menunjukkan bahwa titik-titik dalam suatu cluster berada lebih dekat satu sama lain daripada dengan cluster lain, sedangkan skor yang lebih rendah menunjukkan sebaliknya. Nilai positif menunjukkan bahwa cluster telah terbentuk dengan baik, sedangkan nilai negatif menunjukkan bahwa titik-titik mungkin telah ditempatkan di cluster yang salah.\n",
        "\n",
        "3. Mudah Diinterpretasikan: Skor silhouette relatif mudah diinterpretasikan. Skor mendekati 1 menunjukkan bahwa cluster terbentuk dengan baik, sedangkan skor mendekati -1 menunjukkan bahwa cluster mungkin tidak terbentuk dengan baik."
      ],
      "metadata": {
        "id": "uTdy8PSB5xxD"
      }
    },
    {
      "cell_type": "markdown",
      "source": [
        "**Penjelasan kenapa menggunakan metode algoritma \"DB Scan\" ketimbang metode algoritma ML lainnya : **\n",
        "\n",
        "1. DB Scan mampu menangani cluster dengan bentuk dan ukuran yang beragam, serta cluster yang mungkin tidak teratur dan berbentuk kompleks. Ini karena DB Scan tidak mengasumsikan cluster memiliki bentuk atau ukuran tertentu seperti yang dilakukan oleh algoritma k-means.\n",
        "\n",
        "2. DB Scan tidak memerlukan jumlah cluster yang diketahui sebelumnya. Ini berarti kita tidak perlu mengatur jumlah cluster sebelumnya seperti yang Anda perlukan dalam algoritma k-means atau agglomerative clustering.\n",
        "\n",
        "3. DB Scan lebih efisien dalam menangani data dengan kepadatan yang bervariasi dibandingkan dengan k-means atau agglomerative clustering. Ini karena DB Scan tidak memerlukan penghitungan rata-rata atau perubahan iteratif selama proses clustering.\n",
        "\n",
        "4. DB Scan menawarkan beberapa keunggulan dibandingkan algoritma pengelompokan tradisional,\n",
        "seperti kemampuan untuk mengidentifikasi kelompok bentuk dan pegangan yang berubah-ubah\n",
        "outlier secara efektif. Namun, mengatur parameter epsilon dan MinPts\n",
        "secara tepat dapat menjadi tantangan dan mungkin memerlukan pengetahuan domain atau percobaan."
      ],
      "metadata": {
        "id": "UeuuT1zL7Ebi"
      }
    }
  ]
}